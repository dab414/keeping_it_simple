{
 "cells": [
  {
   "cell_type": "markdown",
   "metadata": {},
   "source": [
    "# The Preregistered Analyses for Experiment 2\n",
    "\n",
    "On [OSF](https://osf.io/uex5x/register/5730e99a9ad5a102c5745a8a), we preregistered analyses for this experiment. \n",
    "\n",
    "Three general analyses were proposed:\n",
    "\n",
    "1. To investigate the influence of reward salience on task selection, 2 (difference: other higher vs. current higher) X 3 (point range: low vs. medium vs. high) X 2 (CTI: 200 vs. 1100 ms) within-subjects ANOVA on the proportion of task switches. \n",
    "  * We predicted a two-way interaction between point range and difference, where switch rates will increase as a function of point range but only within the \"other higher\" level of the difference.\n",
    "2. To investigate whether the cost of effort increases as more effort is expended, a 2 (difference: other higher vs. current higher) X 3 (block: early vs. middle vs. late) within-subjects ANOVA was conducted on the proportion of task switches.\n",
    "  * We predicted an interaction between difference and block, where switch rates decrease as a function of block but only in the the \"other higher\" level of the difference.\n",
    "  * We also suggested that we might run this analysis using a generalized linear mixed model, which we did, and the results of which can be found [here](UPDATE LINK).\n",
    "3. Other supplemental analyses\n",
    "  * Such as investigating the switch cost\n",
    "  * Those analyses were run and reported [here](UPDATE LINK) (for both experiments)."
   ]
  },
  {
   "cell_type": "markdown",
   "metadata": {},
   "source": [
    "## Analysis 1 -- The influence of reward salience on task selection"
   ]
  },
  {
   "cell_type": "code",
   "execution_count": 2,
   "metadata": {},
   "outputs": [
    {
     "name": "stderr",
     "output_type": "stream",
     "text": [
      "The 'lsmeans' package is being deprecated.\n",
      "Users are encouraged to switch to 'emmeans'.\n",
      "See help('transition') for more information, including how\n",
      "to convert 'lsmeans' objects and scripts to work with 'emmeans'.\n"
     ]
    }
   ],
   "source": [
    "library(tidyverse)\n",
    "library(data.table)\n",
    "library(ez)\n",
    "library(lsmeans)"
   ]
  },
  {
   "cell_type": "code",
   "execution_count": 3,
   "metadata": {},
   "outputs": [],
   "source": [
    "current_data <- fread('../data/disconnect_green.csv')"
   ]
  },
  {
   "cell_type": "code",
   "execution_count": 4,
   "metadata": {},
   "outputs": [
    {
     "data": {
      "text/html": [
       "<table>\n",
       "<thead><tr><th scope=col>subject</th><th scope=col>block</th><th scope=col>rsi</th><th scope=col>rt</th><th scope=col>blocktime</th><th scope=col>transcode</th><th scope=col>stimrep</th><th scope=col>current_pv</th><th scope=col>other_pv</th><th scope=col>color</th><th scope=col>difference</th><th scope=col>rt_mean</th><th scope=col>rt_sd</th></tr></thead>\n",
       "<tbody>\n",
       "\t<tr><td>3       </td><td>1       </td><td>1100    </td><td>1082    </td><td>124.289 </td><td>0       </td><td>0       </td><td>7       </td><td>4       </td><td>black   </td><td>-3      </td><td>665.714 </td><td>456.9705</td></tr>\n",
       "\t<tr><td>3       </td><td>1       </td><td> 200    </td><td> 847    </td><td>124.289 </td><td>1       </td><td>1       </td><td>4       </td><td>7       </td><td>black   </td><td> 3      </td><td>665.714 </td><td>456.9705</td></tr>\n",
       "\t<tr><td>3       </td><td>1       </td><td> 200    </td><td>1167    </td><td>124.289 </td><td>0       </td><td>1       </td><td>3       </td><td>2       </td><td>black   </td><td>-1      </td><td>665.714 </td><td>456.9705</td></tr>\n",
       "\t<tr><td>3       </td><td>1       </td><td> 200    </td><td> 633    </td><td>124.289 </td><td>0       </td><td>1       </td><td>8       </td><td>6       </td><td>black   </td><td>-2      </td><td>665.714 </td><td>456.9705</td></tr>\n",
       "\t<tr><td>3       </td><td>1       </td><td> 200    </td><td>1185    </td><td>124.289 </td><td>1       </td><td>0       </td><td>3       </td><td>7       </td><td>green   </td><td> 4      </td><td>665.714 </td><td>456.9705</td></tr>\n",
       "\t<tr><td>3       </td><td>1       </td><td>1100    </td><td> 971    </td><td>124.289 </td><td>0       </td><td>1       </td><td>2       </td><td>1       </td><td>black   </td><td>-1      </td><td>665.714 </td><td>456.9705</td></tr>\n",
       "</tbody>\n",
       "</table>\n"
      ],
      "text/latex": [
       "\\begin{tabular}{r|lllllllllllll}\n",
       " subject & block & rsi & rt & blocktime & transcode & stimrep & current\\_pv & other\\_pv & color & difference & rt\\_mean & rt\\_sd\\\\\n",
       "\\hline\n",
       "\t 3        & 1        & 1100     & 1082     & 124.289  & 0        & 0        & 7        & 4        & black    & -3       & 665.714  & 456.9705\\\\\n",
       "\t 3        & 1        &  200     &  847     & 124.289  & 1        & 1        & 4        & 7        & black    &  3       & 665.714  & 456.9705\\\\\n",
       "\t 3        & 1        &  200     & 1167     & 124.289  & 0        & 1        & 3        & 2        & black    & -1       & 665.714  & 456.9705\\\\\n",
       "\t 3        & 1        &  200     &  633     & 124.289  & 0        & 1        & 8        & 6        & black    & -2       & 665.714  & 456.9705\\\\\n",
       "\t 3        & 1        &  200     & 1185     & 124.289  & 1        & 0        & 3        & 7        & green    &  4       & 665.714  & 456.9705\\\\\n",
       "\t 3        & 1        & 1100     &  971     & 124.289  & 0        & 1        & 2        & 1        & black    & -1       & 665.714  & 456.9705\\\\\n",
       "\\end{tabular}\n"
      ],
      "text/markdown": [
       "\n",
       "subject | block | rsi | rt | blocktime | transcode | stimrep | current_pv | other_pv | color | difference | rt_mean | rt_sd | \n",
       "|---|---|---|---|---|---|\n",
       "| 3        | 1        | 1100     | 1082     | 124.289  | 0        | 0        | 7        | 4        | black    | -3       | 665.714  | 456.9705 | \n",
       "| 3        | 1        |  200     |  847     | 124.289  | 1        | 1        | 4        | 7        | black    |  3       | 665.714  | 456.9705 | \n",
       "| 3        | 1        |  200     | 1167     | 124.289  | 0        | 1        | 3        | 2        | black    | -1       | 665.714  | 456.9705 | \n",
       "| 3        | 1        |  200     |  633     | 124.289  | 0        | 1        | 8        | 6        | black    | -2       | 665.714  | 456.9705 | \n",
       "| 3        | 1        |  200     | 1185     | 124.289  | 1        | 0        | 3        | 7        | green    |  4       | 665.714  | 456.9705 | \n",
       "| 3        | 1        | 1100     |  971     | 124.289  | 0        | 1        | 2        | 1        | black    | -1       | 665.714  | 456.9705 | \n",
       "\n",
       "\n"
      ],
      "text/plain": [
       "  subject block rsi  rt   blocktime transcode stimrep current_pv other_pv color\n",
       "1 3       1     1100 1082 124.289   0         0       7          4        black\n",
       "2 3       1      200  847 124.289   1         1       4          7        black\n",
       "3 3       1      200 1167 124.289   0         1       3          2        black\n",
       "4 3       1      200  633 124.289   0         1       8          6        black\n",
       "5 3       1      200 1185 124.289   1         0       3          7        green\n",
       "6 3       1     1100  971 124.289   0         1       2          1        black\n",
       "  difference rt_mean rt_sd   \n",
       "1 -3         665.714 456.9705\n",
       "2  3         665.714 456.9705\n",
       "3 -1         665.714 456.9705\n",
       "4 -2         665.714 456.9705\n",
       "5  4         665.714 456.9705\n",
       "6 -1         665.714 456.9705"
      ]
     },
     "metadata": {},
     "output_type": "display_data"
    },
    {
     "name": "stdout",
     "output_type": "stream",
     "text": [
      "Classes ‘data.table’ and 'data.frame':\t13880 obs. of  13 variables:\n",
      " $ subject   : int  3 3 3 3 3 3 3 3 3 3 ...\n",
      " $ block     : int  1 1 1 1 1 1 1 1 1 1 ...\n",
      " $ rsi       : int  1100 200 200 200 200 1100 1100 1100 1100 1100 ...\n",
      " $ rt        : int  1082 847 1167 633 1185 971 525 578 1317 513 ...\n",
      " $ blocktime : num  124 124 124 124 124 ...\n",
      " $ transcode : int  0 1 0 0 1 0 0 1 1 0 ...\n",
      " $ stimrep   : int  0 1 1 1 0 1 1 0 1 0 ...\n",
      " $ current_pv: int  7 4 3 8 3 2 10 4 1 8 ...\n",
      " $ other_pv  : int  4 7 2 6 7 1 2 9 7 5 ...\n",
      " $ color     : chr  \"black\" \"black\" \"black\" \"black\" ...\n",
      " $ difference: int  -3 3 -1 -2 4 -1 -8 5 6 -3 ...\n",
      " $ rt_mean   : num  666 666 666 666 666 ...\n",
      " $ rt_sd     : num  457 457 457 457 457 ...\n",
      " - attr(*, \".internal.selfref\")=<externalptr> \n"
     ]
    }
   ],
   "source": [
    "head(current_data)\n",
    "str(current_data)"
   ]
  },
  {
   "cell_type": "markdown",
   "metadata": {},
   "source": [
    "Let's first code all the variables needed for the ANOVA, namely a dichotomized difference variable (excluding level 0), and I'll go ahead and code block as a factor with three levels."
   ]
  },
  {
   "cell_type": "code",
   "execution_count": 5,
   "metadata": {},
   "outputs": [
    {
     "name": "stdout",
     "output_type": "stream",
     "text": [
      "'data.frame':\t12548 obs. of  15 variables:\n",
      " $ subject     : Factor w/ 16 levels \"3\",\"4\",\"5\",\"6\",..: 1 1 1 1 1 1 1 1 1 1 ...\n",
      " $ block       : int  1 1 1 1 1 1 1 1 1 1 ...\n",
      " $ rsi         : Factor w/ 2 levels \"200\",\"1100\": 2 1 1 1 1 2 2 2 2 2 ...\n",
      " $ rt          : int  1082 847 1167 633 1185 971 525 578 1317 513 ...\n",
      " $ blocktime   : num  124 124 124 124 124 ...\n",
      " $ transcode   : int  0 1 0 0 1 0 0 1 1 0 ...\n",
      " $ stimrep     : int  0 1 1 1 0 1 1 0 1 0 ...\n",
      " $ current_pv  : int  7 4 3 8 3 2 10 4 1 8 ...\n",
      " $ other_pv    : int  4 7 2 6 7 1 2 9 7 5 ...\n",
      " $ color       : Factor w/ 3 levels \"black\",\"green\",..: 1 1 1 1 2 1 3 2 2 1 ...\n",
      " $ difference  : int  -3 3 -1 -2 4 -1 -8 5 6 -3 ...\n",
      " $ rt_mean     : num  666 666 666 666 666 ...\n",
      " $ rt_sd       : num  457 457 457 457 457 ...\n",
      " $ block_f     : Factor w/ 3 levels \"high\",\"low\",\"medium\": 2 2 2 2 2 2 2 2 2 2 ...\n",
      " $ difference_d: Factor w/ 3 levels \"\",\"high\",\"low\": 3 2 3 3 2 3 3 2 2 3 ...\n"
     ]
    }
   ],
   "source": [
    "current_data <- current_data %>% \n",
    "mutate(block_f = factor(ifelse(block < 5, 'low', ifelse(block >=5 & block <= 8, 'medium', 'high'))),\n",
    "      difference_d = factor(ifelse(difference < 0, 'low', ifelse(difference > 0, 'high', ''))),\n",
    "      color = as.factor(color),\n",
    "      subject = as.factor(subject),\n",
    "      rsi = as.factor(rsi)) %>% \n",
    "filter(difference_d != '')\n",
    "str(current_data)"
   ]
  },
  {
   "cell_type": "markdown",
   "metadata": {},
   "source": [
    "**Omnibus analysis:**  \n",
    "2 (rsi: 200 vs. 1100) X 3 (color: black vs green vs light green) X 2 (difference: low vs high) within-subjects ANOVA on proportion of switches."
   ]
  },
  {
   "cell_type": "code",
   "execution_count": 6,
   "metadata": {},
   "outputs": [
    {
     "name": "stderr",
     "output_type": "stream",
     "text": [
      "Warning message:\n",
      "“You have removed one or more levels from variable \"difference_d\". Refactoring for ANOVA.”Warning message:\n",
      "“Collapsing data to cell means. *IF* the requested effects are a subset of the full design, you must use the \"within_full\" argument, else results may be inaccurate.”"
     ]
    },
    {
     "data": {
      "text/html": [
       "<table>\n",
       "<thead><tr><th scope=col>Effect</th><th scope=col>DFn</th><th scope=col>DFd</th><th scope=col>SSn</th><th scope=col>SSd</th><th scope=col>F</th><th scope=col>p</th><th scope=col>p&lt;.05</th><th scope=col>ges</th><th scope=col>n2p</th></tr></thead>\n",
       "<tbody>\n",
       "\t<tr><td>(Intercept)           </td><td>1                     </td><td>15                    </td><td>2.107464e+01          </td><td>2.95158548            </td><td>107.1016409           </td><td>3.176010e-08          </td><td>*                     </td><td>7.632667e-01          </td><td>0.877151528           </td></tr>\n",
       "\t<tr><td>rsi                   </td><td>1                     </td><td>15                    </td><td>1.628974e-02          </td><td>0.04197495            </td><td>  5.8212374           </td><td>2.909187e-02          </td><td>*                     </td><td>2.485936e-03          </td><td>0.279581723           </td></tr>\n",
       "\t<tr><td>color                 </td><td>2                     </td><td>30                    </td><td>1.616989e-01          </td><td>0.15628444            </td><td> 15.5196724           </td><td>2.358690e-05          </td><td>*                     </td><td>2.414076e-02          </td><td>0.508513729           </td></tr>\n",
       "\t<tr><td>difference_d          </td><td>1                     </td><td>15                    </td><td>1.975719e+01          </td><td>2.97915990            </td><td> 99.4769976           </td><td>5.172220e-08          </td><td>*                     </td><td>7.514051e-01          </td><td>0.868969310           </td></tr>\n",
       "\t<tr><td>rsi:color             </td><td>2                     </td><td>30                    </td><td>5.303111e-04          </td><td>0.07911491            </td><td>  0.1005457           </td><td>9.046472e-01          </td><td>                      </td><td>8.112452e-05          </td><td>0.006658417           </td></tr>\n",
       "\t<tr><td>rsi:difference_d      </td><td>1                     </td><td>15                    </td><td>2.330247e-02          </td><td>0.04927223            </td><td>  7.0939967           </td><td>1.770853e-02          </td><td>*                     </td><td>3.552328e-03          </td><td>0.321082545           </td></tr>\n",
       "\t<tr><td>color:difference_d    </td><td>2                     </td><td>30                    </td><td>2.426908e-01          </td><td>0.21301800            </td><td> 17.0894586           </td><td>1.111560e-05          </td><td>*                     </td><td>3.579953e-02          </td><td>0.532556776           </td></tr>\n",
       "\t<tr><td>rsi:color:difference_d</td><td>2                     </td><td>30                    </td><td>2.307325e-03          </td><td>0.06606140            </td><td>  0.5239046           </td><td>5.975227e-01          </td><td>                      </td><td>3.528679e-04          </td><td>0.033748251           </td></tr>\n",
       "</tbody>\n",
       "</table>\n"
      ],
      "text/latex": [
       "\\begin{tabular}{r|llllllllll}\n",
       " Effect & DFn & DFd & SSn & SSd & F & p & p<.05 & ges & n2p\\\\\n",
       "\\hline\n",
       "\t (Intercept)            & 1                      & 15                     & 2.107464e+01           & 2.95158548             & 107.1016409            & 3.176010e-08           & *                      & 7.632667e-01           & 0.877151528           \\\\\n",
       "\t rsi                    & 1                      & 15                     & 1.628974e-02           & 0.04197495             &   5.8212374            & 2.909187e-02           & *                      & 2.485936e-03           & 0.279581723           \\\\\n",
       "\t color                  & 2                      & 30                     & 1.616989e-01           & 0.15628444             &  15.5196724            & 2.358690e-05           & *                      & 2.414076e-02           & 0.508513729           \\\\\n",
       "\t difference\\_d           & 1                        & 15                       & 1.975719e+01             & 2.97915990               &  99.4769976              & 5.172220e-08             & *                        & 7.514051e-01             & 0.868969310             \\\\\n",
       "\t rsi:color              & 2                      & 30                     & 5.303111e-04           & 0.07911491             &   0.1005457            & 9.046472e-01           &                        & 8.112452e-05           & 0.006658417           \\\\\n",
       "\t rsi:difference\\_d       & 1                        & 15                       & 2.330247e-02             & 0.04927223               &   7.0939967              & 1.770853e-02             & *                        & 3.552328e-03             & 0.321082545             \\\\\n",
       "\t color:difference\\_d     & 2                        & 30                       & 2.426908e-01             & 0.21301800               &  17.0894586              & 1.111560e-05             & *                        & 3.579953e-02             & 0.532556776             \\\\\n",
       "\t rsi:color:difference\\_d & 2                        & 30                       & 2.307325e-03             & 0.06606140               &   0.5239046              & 5.975227e-01             &                          & 3.528679e-04             & 0.033748251             \\\\\n",
       "\\end{tabular}\n"
      ],
      "text/markdown": [
       "\n",
       "Effect | DFn | DFd | SSn | SSd | F | p | p<.05 | ges | n2p | \n",
       "|---|---|---|---|---|---|---|---|\n",
       "| (Intercept)            | 1                      | 15                     | 2.107464e+01           | 2.95158548             | 107.1016409            | 3.176010e-08           | *                      | 7.632667e-01           | 0.877151528            | \n",
       "| rsi                    | 1                      | 15                     | 1.628974e-02           | 0.04197495             |   5.8212374            | 2.909187e-02           | *                      | 2.485936e-03           | 0.279581723            | \n",
       "| color                  | 2                      | 30                     | 1.616989e-01           | 0.15628444             |  15.5196724            | 2.358690e-05           | *                      | 2.414076e-02           | 0.508513729            | \n",
       "| difference_d           | 1                      | 15                     | 1.975719e+01           | 2.97915990             |  99.4769976            | 5.172220e-08           | *                      | 7.514051e-01           | 0.868969310            | \n",
       "| rsi:color              | 2                      | 30                     | 5.303111e-04           | 0.07911491             |   0.1005457            | 9.046472e-01           |                        | 8.112452e-05           | 0.006658417            | \n",
       "| rsi:difference_d       | 1                      | 15                     | 2.330247e-02           | 0.04927223             |   7.0939967            | 1.770853e-02           | *                      | 3.552328e-03           | 0.321082545            | \n",
       "| color:difference_d     | 2                      | 30                     | 2.426908e-01           | 0.21301800             |  17.0894586            | 1.111560e-05           | *                      | 3.579953e-02           | 0.532556776            | \n",
       "| rsi:color:difference_d | 2                      | 30                     | 2.307325e-03           | 0.06606140             |   0.5239046            | 5.975227e-01           |                        | 3.528679e-04           | 0.033748251            | \n",
       "\n",
       "\n"
      ],
      "text/plain": [
       "  Effect                 DFn DFd SSn          SSd        F          \n",
       "1 (Intercept)            1   15  2.107464e+01 2.95158548 107.1016409\n",
       "2 rsi                    1   15  1.628974e-02 0.04197495   5.8212374\n",
       "3 color                  2   30  1.616989e-01 0.15628444  15.5196724\n",
       "4 difference_d           1   15  1.975719e+01 2.97915990  99.4769976\n",
       "5 rsi:color              2   30  5.303111e-04 0.07911491   0.1005457\n",
       "6 rsi:difference_d       1   15  2.330247e-02 0.04927223   7.0939967\n",
       "7 color:difference_d     2   30  2.426908e-01 0.21301800  17.0894586\n",
       "8 rsi:color:difference_d 2   30  2.307325e-03 0.06606140   0.5239046\n",
       "  p            p<.05 ges          n2p        \n",
       "1 3.176010e-08 *     7.632667e-01 0.877151528\n",
       "2 2.909187e-02 *     2.485936e-03 0.279581723\n",
       "3 2.358690e-05 *     2.414076e-02 0.508513729\n",
       "4 5.172220e-08 *     7.514051e-01 0.868969310\n",
       "5 9.046472e-01       8.112452e-05 0.006658417\n",
       "6 1.770853e-02 *     3.552328e-03 0.321082545\n",
       "7 1.111560e-05 *     3.579953e-02 0.532556776\n",
       "8 5.975227e-01       3.528679e-04 0.033748251"
      ]
     },
     "metadata": {},
     "output_type": "display_data"
    },
    {
     "data": {
      "text/html": [
       "<table>\n",
       "<thead><tr><th></th><th scope=col>Effect</th><th scope=col>W</th><th scope=col>p</th><th scope=col>p&lt;.05</th></tr></thead>\n",
       "<tbody>\n",
       "\t<tr><th scope=row>3</th><td>color                 </td><td>0.6004911             </td><td>0.028154371           </td><td>*                     </td></tr>\n",
       "\t<tr><th scope=row>5</th><td>rsi:color             </td><td>0.8332363             </td><td>0.278854259           </td><td>                      </td></tr>\n",
       "\t<tr><th scope=row>7</th><td>color:difference_d    </td><td>0.4830324             </td><td>0.006135273           </td><td>*                     </td></tr>\n",
       "\t<tr><th scope=row>8</th><td>rsi:color:difference_d</td><td>0.8853778             </td><td>0.426481727           </td><td>                      </td></tr>\n",
       "</tbody>\n",
       "</table>\n"
      ],
      "text/latex": [
       "\\begin{tabular}{r|llll}\n",
       "  & Effect & W & p & p<.05\\\\\n",
       "\\hline\n",
       "\t3 & color                  & 0.6004911              & 0.028154371            & *                     \\\\\n",
       "\t5 & rsi:color              & 0.8332363              & 0.278854259            &                       \\\\\n",
       "\t7 & color:difference\\_d     & 0.4830324                & 0.006135273              & *                       \\\\\n",
       "\t8 & rsi:color:difference\\_d & 0.8853778                & 0.426481727              &                         \\\\\n",
       "\\end{tabular}\n"
      ],
      "text/markdown": [
       "\n",
       "| <!--/--> | Effect | W | p | p<.05 | \n",
       "|---|---|---|---|\n",
       "| 3 | color                  | 0.6004911              | 0.028154371            | *                      | \n",
       "| 5 | rsi:color              | 0.8332363              | 0.278854259            |                        | \n",
       "| 7 | color:difference_d     | 0.4830324              | 0.006135273            | *                      | \n",
       "| 8 | rsi:color:difference_d | 0.8853778              | 0.426481727            |                        | \n",
       "\n",
       "\n"
      ],
      "text/plain": [
       "  Effect                 W         p           p<.05\n",
       "3 color                  0.6004911 0.028154371 *    \n",
       "5 rsi:color              0.8332363 0.278854259      \n",
       "7 color:difference_d     0.4830324 0.006135273 *    \n",
       "8 rsi:color:difference_d 0.8853778 0.426481727      "
      ]
     },
     "metadata": {},
     "output_type": "display_data"
    },
    {
     "data": {
      "text/html": [
       "<table>\n",
       "<thead><tr><th></th><th scope=col>Effect</th><th scope=col>GGe</th><th scope=col>p[GG]</th><th scope=col>p[GG]&lt;.05</th><th scope=col>HFe</th><th scope=col>p[HF]</th><th scope=col>p[HF]&lt;.05</th></tr></thead>\n",
       "<tbody>\n",
       "\t<tr><th scope=row>3</th><td>color                 </td><td>0.7145363             </td><td>0.0002312591          </td><td>*                     </td><td>0.7687449             </td><td>0.0001496077          </td><td>*                     </td></tr>\n",
       "\t<tr><th scope=row>5</th><td>rsi:color             </td><td>0.8570716             </td><td>0.8768135223          </td><td>                      </td><td>0.9568931             </td><td>0.8970709338          </td><td>                      </td></tr>\n",
       "\t<tr><th scope=row>7</th><td>color:difference_d    </td><td>0.6592099             </td><td>0.0002169917          </td><td>*                     </td><td>0.6978257             </td><td>0.0001546351          </td><td>*                     </td></tr>\n",
       "\t<tr><th scope=row>8</th><td>rsi:color:difference_d</td><td>0.8971650             </td><td>0.5788487133          </td><td>                      </td><td>1.0112807             </td><td>0.5975226774          </td><td>                      </td></tr>\n",
       "</tbody>\n",
       "</table>\n"
      ],
      "text/latex": [
       "\\begin{tabular}{r|lllllll}\n",
       "  & Effect & GGe & p{[}GG{]} & p{[}GG{]}<.05 & HFe & p{[}HF{]} & p{[}HF{]}<.05\\\\\n",
       "\\hline\n",
       "\t3 & color                  & 0.7145363              & 0.0002312591           & *                      & 0.7687449              & 0.0001496077           & *                     \\\\\n",
       "\t5 & rsi:color              & 0.8570716              & 0.8768135223           &                        & 0.9568931              & 0.8970709338           &                       \\\\\n",
       "\t7 & color:difference\\_d     & 0.6592099                & 0.0002169917             & *                        & 0.6978257                & 0.0001546351             & *                       \\\\\n",
       "\t8 & rsi:color:difference\\_d & 0.8971650                & 0.5788487133             &                          & 1.0112807                & 0.5975226774             &                         \\\\\n",
       "\\end{tabular}\n"
      ],
      "text/markdown": [
       "\n",
       "| <!--/--> | Effect | GGe | p[GG] | p[GG]<.05 | HFe | p[HF] | p[HF]<.05 | \n",
       "|---|---|---|---|\n",
       "| 3 | color                  | 0.7145363              | 0.0002312591           | *                      | 0.7687449              | 0.0001496077           | *                      | \n",
       "| 5 | rsi:color              | 0.8570716              | 0.8768135223           |                        | 0.9568931              | 0.8970709338           |                        | \n",
       "| 7 | color:difference_d     | 0.6592099              | 0.0002169917           | *                      | 0.6978257              | 0.0001546351           | *                      | \n",
       "| 8 | rsi:color:difference_d | 0.8971650              | 0.5788487133           |                        | 1.0112807              | 0.5975226774           |                        | \n",
       "\n",
       "\n"
      ],
      "text/plain": [
       "  Effect                 GGe       p[GG]        p[GG]<.05 HFe      \n",
       "3 color                  0.7145363 0.0002312591 *         0.7687449\n",
       "5 rsi:color              0.8570716 0.8768135223           0.9568931\n",
       "7 color:difference_d     0.6592099 0.0002169917 *         0.6978257\n",
       "8 rsi:color:difference_d 0.8971650 0.5788487133           1.0112807\n",
       "  p[HF]        p[HF]<.05\n",
       "3 0.0001496077 *        \n",
       "5 0.8970709338          \n",
       "7 0.0001546351 *        \n",
       "8 0.5975226774          "
      ]
     },
     "metadata": {},
     "output_type": "display_data"
    }
   ],
   "source": [
    "m1 <- ezANOVA(data = current_data, wid = subject, within = .(rsi, color, difference_d), dv = transcode, type = 2, \n",
    "              detailed = TRUE, return_aov = TRUE)\n",
    "cbind(m1$ANOVA, n2p = m1$ANOVA$SSn / (m1$ANOVA$SSn + m1$ANOVA$SSd))\n",
    "m1$\"Mauchly's Test for Sphericity\"\n",
    "m1$'Sphericity Corrections'"
   ]
  },
  {
   "cell_type": "markdown",
   "metadata": {},
   "source": [
    "**Cell and marginal means:**"
   ]
  },
  {
   "cell_type": "code",
   "execution_count": 7,
   "metadata": {},
   "outputs": [
    {
     "name": "stderr",
     "output_type": "stream",
     "text": [
      "\n",
      "Attaching package: ‘reshape2’\n",
      "\n",
      "The following objects are masked from ‘package:data.table’:\n",
      "\n",
      "    dcast, melt\n",
      "\n",
      "The following object is masked from ‘package:tidyr’:\n",
      "\n",
      "    smiths\n",
      "\n"
     ]
    }
   ],
   "source": [
    "library(reshape2)\n",
    "subject_means <- current_data %>% \n",
    "group_by(subject, color, rsi, difference_d) %>% \n",
    "summarize(transcode = mean(transcode))\n",
    "output_data <- dcast(data = subject_means, subject ~ color + rsi + difference_d, value.var = 'transcode', fill = NA)\n",
    "write.csv(output_data, '../output_data.csv',row.names = FALSE)"
   ]
  },
  {
   "cell_type": "code",
   "execution_count": 8,
   "metadata": {},
   "outputs": [
    {
     "data": {
      "text/html": [
       "<table>\n",
       "<thead><tr><th scope=col>color</th><th scope=col>switch</th><th scope=col>se</th></tr></thead>\n",
       "<tbody>\n",
       "\t<tr><td>black      </td><td>0.2920818  </td><td>0.08324654 </td></tr>\n",
       "\t<tr><td>green      </td><td>0.3404609  </td><td>0.09676764 </td></tr>\n",
       "\t<tr><td>light green</td><td>0.3613758  </td><td>0.10036871 </td></tr>\n",
       "</tbody>\n",
       "</table>\n"
      ],
      "text/latex": [
       "\\begin{tabular}{r|lll}\n",
       " color & switch & se\\\\\n",
       "\\hline\n",
       "\t black       & 0.2920818   & 0.08324654 \\\\\n",
       "\t green       & 0.3404609   & 0.09676764 \\\\\n",
       "\t light green & 0.3613758   & 0.10036871 \\\\\n",
       "\\end{tabular}\n"
      ],
      "text/markdown": [
       "\n",
       "color | switch | se | \n",
       "|---|---|---|\n",
       "| black       | 0.2920818   | 0.08324654  | \n",
       "| green       | 0.3404609   | 0.09676764  | \n",
       "| light green | 0.3613758   | 0.10036871  | \n",
       "\n",
       "\n"
      ],
      "text/plain": [
       "  color       switch    se        \n",
       "1 black       0.2920818 0.08324654\n",
       "2 green       0.3404609 0.09676764\n",
       "3 light green 0.3613758 0.10036871"
      ]
     },
     "metadata": {},
     "output_type": "display_data"
    },
    {
     "data": {
      "text/html": [
       "<table>\n",
       "<thead><tr><th scope=col>rsi</th><th scope=col>switch</th><th scope=col>se</th></tr></thead>\n",
       "<tbody>\n",
       "\t<tr><td>200       </td><td>0.3220952 </td><td>0.09115441</td></tr>\n",
       "\t<tr><td>1100      </td><td>0.3405171 </td><td>0.09629423</td></tr>\n",
       "</tbody>\n",
       "</table>\n"
      ],
      "text/latex": [
       "\\begin{tabular}{r|lll}\n",
       " rsi & switch & se\\\\\n",
       "\\hline\n",
       "\t 200        & 0.3220952  & 0.09115441\\\\\n",
       "\t 1100       & 0.3405171  & 0.09629423\\\\\n",
       "\\end{tabular}\n"
      ],
      "text/markdown": [
       "\n",
       "rsi | switch | se | \n",
       "|---|---|\n",
       "| 200        | 0.3220952  | 0.09115441 | \n",
       "| 1100       | 0.3405171  | 0.09629423 | \n",
       "\n",
       "\n"
      ],
      "text/plain": [
       "  rsi  switch    se        \n",
       "1 200  0.3220952 0.09115441\n",
       "2 1100 0.3405171 0.09629423"
      ]
     },
     "metadata": {},
     "output_type": "display_data"
    },
    {
     "data": {
      "text/html": [
       "<table>\n",
       "<thead><tr><th scope=col>difference_d</th><th scope=col>switch</th><th scope=col>se</th></tr></thead>\n",
       "<tbody>\n",
       "\t<tr><td>high       </td><td>0.65208964 </td><td>0.067628238</td></tr>\n",
       "\t<tr><td>low        </td><td>0.01052267 </td><td>0.004548816</td></tr>\n",
       "</tbody>\n",
       "</table>\n"
      ],
      "text/latex": [
       "\\begin{tabular}{r|lll}\n",
       " difference\\_d & switch & se\\\\\n",
       "\\hline\n",
       "\t high        & 0.65208964  & 0.067628238\\\\\n",
       "\t low         & 0.01052267  & 0.004548816\\\\\n",
       "\\end{tabular}\n"
      ],
      "text/markdown": [
       "\n",
       "difference_d | switch | se | \n",
       "|---|---|\n",
       "| high        | 0.65208964  | 0.067628238 | \n",
       "| low         | 0.01052267  | 0.004548816 | \n",
       "\n",
       "\n"
      ],
      "text/plain": [
       "  difference_d switch     se         \n",
       "1 high         0.65208964 0.067628238\n",
       "2 low          0.01052267 0.004548816"
      ]
     },
     "metadata": {},
     "output_type": "display_data"
    },
    {
     "data": {
      "text/html": [
       "<table>\n",
       "<thead><tr><th scope=col>rsi</th><th scope=col>difference_d</th><th scope=col>switch</th><th scope=col>se</th></tr></thead>\n",
       "<tbody>\n",
       "\t<tr><td>200        </td><td>high       </td><td>0.631861971</td><td>0.067203331</td></tr>\n",
       "\t<tr><td>200        </td><td>low        </td><td>0.012328347</td><td>0.005396301</td></tr>\n",
       "\t<tr><td>1100       </td><td>high       </td><td>0.672317299</td><td>0.068380894</td></tr>\n",
       "\t<tr><td>1100       </td><td>low        </td><td>0.008716994</td><td>0.003505340</td></tr>\n",
       "</tbody>\n",
       "</table>\n"
      ],
      "text/latex": [
       "\\begin{tabular}{r|llll}\n",
       " rsi & difference\\_d & switch & se\\\\\n",
       "\\hline\n",
       "\t 200         & high        & 0.631861971 & 0.067203331\\\\\n",
       "\t 200         & low         & 0.012328347 & 0.005396301\\\\\n",
       "\t 1100        & high        & 0.672317299 & 0.068380894\\\\\n",
       "\t 1100        & low         & 0.008716994 & 0.003505340\\\\\n",
       "\\end{tabular}\n"
      ],
      "text/markdown": [
       "\n",
       "rsi | difference_d | switch | se | \n",
       "|---|---|---|---|\n",
       "| 200         | high        | 0.631861971 | 0.067203331 | \n",
       "| 200         | low         | 0.012328347 | 0.005396301 | \n",
       "| 1100        | high        | 0.672317299 | 0.068380894 | \n",
       "| 1100        | low         | 0.008716994 | 0.003505340 | \n",
       "\n",
       "\n"
      ],
      "text/plain": [
       "  rsi  difference_d switch      se         \n",
       "1 200  high         0.631861971 0.067203331\n",
       "2 200  low          0.012328347 0.005396301\n",
       "3 1100 high         0.672317299 0.068380894\n",
       "4 1100 low          0.008716994 0.003505340"
      ]
     },
     "metadata": {},
     "output_type": "display_data"
    },
    {
     "data": {
      "text/html": [
       "<table>\n",
       "<thead><tr><th scope=col>difference_d</th><th scope=col>color</th><th scope=col>switch</th><th scope=col>se</th></tr></thead>\n",
       "<tbody>\n",
       "\t<tr><td>high       </td><td>black      </td><td>0.564176020</td><td>0.067045241</td></tr>\n",
       "\t<tr><td>high       </td><td>green      </td><td>0.674724320</td><td>0.067877168</td></tr>\n",
       "\t<tr><td>high       </td><td>light green</td><td>0.717368565</td><td>0.064084475</td></tr>\n",
       "\t<tr><td>low        </td><td>black      </td><td>0.019987531</td><td>0.005959635</td></tr>\n",
       "\t<tr><td>low        </td><td>green      </td><td>0.006197417</td><td>0.002380593</td></tr>\n",
       "\t<tr><td>low        </td><td>light green</td><td>0.005383065</td><td>0.003678980</td></tr>\n",
       "</tbody>\n",
       "</table>\n"
      ],
      "text/latex": [
       "\\begin{tabular}{r|llll}\n",
       " difference\\_d & color & switch & se\\\\\n",
       "\\hline\n",
       "\t high        & black       & 0.564176020 & 0.067045241\\\\\n",
       "\t high        & green       & 0.674724320 & 0.067877168\\\\\n",
       "\t high        & light green & 0.717368565 & 0.064084475\\\\\n",
       "\t low         & black       & 0.019987531 & 0.005959635\\\\\n",
       "\t low         & green       & 0.006197417 & 0.002380593\\\\\n",
       "\t low         & light green & 0.005383065 & 0.003678980\\\\\n",
       "\\end{tabular}\n"
      ],
      "text/markdown": [
       "\n",
       "difference_d | color | switch | se | \n",
       "|---|---|---|---|---|---|\n",
       "| high        | black       | 0.564176020 | 0.067045241 | \n",
       "| high        | green       | 0.674724320 | 0.067877168 | \n",
       "| high        | light green | 0.717368565 | 0.064084475 | \n",
       "| low         | black       | 0.019987531 | 0.005959635 | \n",
       "| low         | green       | 0.006197417 | 0.002380593 | \n",
       "| low         | light green | 0.005383065 | 0.003678980 | \n",
       "\n",
       "\n"
      ],
      "text/plain": [
       "  difference_d color       switch      se         \n",
       "1 high         black       0.564176020 0.067045241\n",
       "2 high         green       0.674724320 0.067877168\n",
       "3 high         light green 0.717368565 0.064084475\n",
       "4 low          black       0.019987531 0.005959635\n",
       "5 low          green       0.006197417 0.002380593\n",
       "6 low          light green 0.005383065 0.003678980"
      ]
     },
     "metadata": {},
     "output_type": "display_data"
    }
   ],
   "source": [
    "N <- subject_means %>% \n",
    "group_by(subject) %>% \n",
    "summarize(n = n()) %>% \n",
    "nrow(.)\n",
    "\n",
    "subject_means %>% \n",
    "group_by(color) %>% \n",
    "summarize(switch = mean(transcode), se = sd(transcode) / sqrt(N))\n",
    "\n",
    "subject_means %>% \n",
    "group_by(rsi) %>% \n",
    "summarize(switch = mean(transcode), se = sd(transcode) / sqrt(N))\n",
    "\n",
    "subject_means %>% \n",
    "group_by(difference_d) %>% \n",
    "summarize(switch = mean(transcode), se = sd(transcode) / sqrt(N))\n",
    "\n",
    "diff_rsi_means <- subject_means %>% \n",
    "group_by(rsi, difference_d) %>% \n",
    "summarize(switch = mean(transcode), se = sd(transcode) / sqrt(N)) \n",
    "diff_rsi_means\n",
    "\n",
    "diff_color_means <- subject_means %>% \n",
    "group_by(difference_d, color) %>% \n",
    "summarize(switch = mean(transcode), se = sd(transcode) / sqrt(N))\n",
    "diff_color_means\n"
   ]
  },
  {
   "cell_type": "markdown",
   "metadata": {},
   "source": [
    "### Following up on the Color X Difference interaction that we predicted a priori"
   ]
  },
  {
   "cell_type": "markdown",
   "metadata": {},
   "source": [
    "**Simple Effects**"
   ]
  },
  {
   "cell_type": "code",
   "execution_count": 9,
   "metadata": {},
   "outputs": [
    {
     "name": "stderr",
     "output_type": "stream",
     "text": [
      "Warning message:\n",
      "“Collapsing data to cell means. *IF* the requested effects are a subset of the full design, you must use the \"within_full\" argument, else results may be inaccurate.”"
     ]
    },
    {
     "data": {
      "text/html": [
       "'The simple effect of color in the low difference range: F(2, 30) = 0.15, p = 0.86, n2p = 0.01'"
      ],
      "text/latex": [
       "'The simple effect of color in the low difference range: F(2, 30) = 0.15, p = 0.86, n2p = 0.01'"
      ],
      "text/markdown": [
       "'The simple effect of color in the low difference range: F(2, 30) = 0.15, p = 0.86, n2p = 0.01'"
      ],
      "text/plain": [
       "[1] \"The simple effect of color in the low difference range: F(2, 30) = 0.15, p = 0.86, n2p = 0.01\""
      ]
     },
     "metadata": {},
     "output_type": "display_data"
    }
   ],
   "source": [
    "## save omnibus terms\n",
    "ssd <- m1$ANOVA$SSd[7]\n",
    "dfd <- m1$ANOVA$DFd[7]\n",
    "mse <- ssd / dfd\n",
    "\n",
    "diff_low <- ezANOVA(data = current_data[current_data$difference_d == 'low',], \n",
    "                    wid = subject, within = color, dv = transcode, detailed = TRUE)\n",
    "\n",
    "\n",
    "ssn_low <- diff_low$ANOVA$SSn[2]\n",
    "dfn_low <- diff_low$ANOVA$DFn[2]\n",
    "msn_low <- ssn_low / dfn_low\n",
    "F_low <- msn_low / mse\n",
    "p_low <- pf(F_low, dfn_low, dfd, lower.tail = FALSE)\n",
    "n2p_low <- ssn_low / (ssn_low + ssd)\n",
    "\n",
    "paste0('The simple effect of color in the low difference range: F(', dfn_low, ', ', dfd, ') = ', round(F_low, 2), ', p = ',\n",
    "      round(p_low, 2), ', n2p = ', round(n2p_low, 2))"
   ]
  },
  {
   "cell_type": "code",
   "execution_count": 10,
   "metadata": {},
   "outputs": [
    {
     "name": "stderr",
     "output_type": "stream",
     "text": [
      "Warning message:\n",
      "“Collapsing data to cell means. *IF* the requested effects are a subset of the full design, you must use the \"within_full\" argument, else results may be inaccurate.”"
     ]
    },
    {
     "data": {
      "text/html": [
       "'The simple effect of color in the high difference range: F(2, 30) = 14.39, p = 0, n2p = 0.49'"
      ],
      "text/latex": [
       "'The simple effect of color in the high difference range: F(2, 30) = 14.39, p = 0, n2p = 0.49'"
      ],
      "text/markdown": [
       "'The simple effect of color in the high difference range: F(2, 30) = 14.39, p = 0, n2p = 0.49'"
      ],
      "text/plain": [
       "[1] \"The simple effect of color in the high difference range: F(2, 30) = 14.39, p = 0, n2p = 0.49\""
      ]
     },
     "metadata": {},
     "output_type": "display_data"
    }
   ],
   "source": [
    "diff_high <- ezANOVA(data = current_data[current_data$difference_d == 'high',], \n",
    "                    wid = subject, within = color, dv = transcode, detailed = TRUE)\n",
    "\n",
    "\n",
    "ssn_high <- diff_high$ANOVA$SSn[2]\n",
    "dfn_high <- diff_high$ANOVA$DFn[2]\n",
    "msn_high <- ssn_high / dfn_high\n",
    "F_high <- msn_high / mse\n",
    "p_high <- pf(F_high, dfn_high, dfd, lower.tail = FALSE)\n",
    "n2p_high <- ssn_high / (ssn_high + ssd)\n",
    "\n",
    "paste0('The simple effect of color in the high difference range: F(', dfn_high, ', ', dfd, ') = ', round(F_high, 2), ', p = ',\n",
    "      round(p_high, 4), ', n2p = ', round(n2p_high, 2))"
   ]
  },
  {
   "cell_type": "markdown",
   "metadata": {},
   "source": [
    "**Pairwise compairsons of simple effect of color at high level of difference:**"
   ]
  },
  {
   "cell_type": "code",
   "execution_count": 11,
   "metadata": {},
   "outputs": [
    {
     "name": "stderr",
     "output_type": "stream",
     "text": [
      "Warning message in lsm.basis.aovlist(object, trms, xlev, grid, ...):\n",
      "“Some predictors are correlated with the intercept - results are biased.\n",
      "May help to re-fit with different contrasts, e.g. 'contr.sum'”NOTE: Results may be misleading due to involvement in interactions\n"
     ]
    },
    {
     "data": {
      "text/plain": [
       " color       difference_d     lsmean         SE    df   lower.CL   upper.CL\n",
       " black       high          0.3405171 0.03224020 15.43  0.2719639  0.4090704\n",
       " green       high          0.3851644 0.03584185 23.20  0.3089528  0.4613759\n",
       " light green high          0.4093538 0.03584185 23.20  0.3331423  0.4855653\n",
       " black       low          -0.3230832 0.07242642 22.71 -0.4770855 -0.1690808\n",
       " green       low          -0.3864899 0.08156975 35.66 -0.5599340 -0.2130459\n",
       " light green low          -0.4180756 0.08156975 35.66 -0.5915196 -0.2446315\n",
       "\n",
       "Results are averaged over the levels of: rsi \n",
       "Confidence level used: 0.95 "
      ]
     },
     "metadata": {},
     "output_type": "display_data"
    },
    {
     "data": {
      "text/html": [
       "<table>\n",
       "<thead><tr><th scope=col>difference_d</th><th scope=col>color</th><th scope=col>switch</th><th scope=col>se</th></tr></thead>\n",
       "<tbody>\n",
       "\t<tr><td>high       </td><td>black      </td><td>0.564176020</td><td>0.067045241</td></tr>\n",
       "\t<tr><td>high       </td><td>green      </td><td>0.674724320</td><td>0.067877168</td></tr>\n",
       "\t<tr><td>high       </td><td>light green</td><td>0.717368565</td><td>0.064084475</td></tr>\n",
       "\t<tr><td>low        </td><td>black      </td><td>0.019987531</td><td>0.005959635</td></tr>\n",
       "\t<tr><td>low        </td><td>green      </td><td>0.006197417</td><td>0.002380593</td></tr>\n",
       "\t<tr><td>low        </td><td>light green</td><td>0.005383065</td><td>0.003678980</td></tr>\n",
       "</tbody>\n",
       "</table>\n"
      ],
      "text/latex": [
       "\\begin{tabular}{r|llll}\n",
       " difference\\_d & color & switch & se\\\\\n",
       "\\hline\n",
       "\t high        & black       & 0.564176020 & 0.067045241\\\\\n",
       "\t high        & green       & 0.674724320 & 0.067877168\\\\\n",
       "\t high        & light green & 0.717368565 & 0.064084475\\\\\n",
       "\t low         & black       & 0.019987531 & 0.005959635\\\\\n",
       "\t low         & green       & 0.006197417 & 0.002380593\\\\\n",
       "\t low         & light green & 0.005383065 & 0.003678980\\\\\n",
       "\\end{tabular}\n"
      ],
      "text/markdown": [
       "\n",
       "difference_d | color | switch | se | \n",
       "|---|---|---|---|---|---|\n",
       "| high        | black       | 0.564176020 | 0.067045241 | \n",
       "| high        | green       | 0.674724320 | 0.067877168 | \n",
       "| high        | light green | 0.717368565 | 0.064084475 | \n",
       "| low         | black       | 0.019987531 | 0.005959635 | \n",
       "| low         | green       | 0.006197417 | 0.002380593 | \n",
       "| low         | light green | 0.005383065 | 0.003678980 | \n",
       "\n",
       "\n"
      ],
      "text/plain": [
       "  difference_d color       switch      se         \n",
       "1 high         black       0.564176020 0.067045241\n",
       "2 high         green       0.674724320 0.067877168\n",
       "3 high         light green 0.717368565 0.064084475\n",
       "4 low          black       0.019987531 0.005959635\n",
       "5 low          green       0.006197417 0.002380593\n",
       "6 low          light green 0.005383065 0.003678980"
      ]
     },
     "metadata": {},
     "output_type": "display_data"
    }
   ],
   "source": [
    "means_int <- lsmeans::lsmeans(m1$aov, specs = c('color', 'difference_d'))\n",
    "means_int\n",
    "diff_color_means"
   ]
  },
  {
   "cell_type": "code",
   "execution_count": 12,
   "metadata": {
    "scrolled": true
   },
   "outputs": [
    {
     "data": {
      "text/plain": [
       " contrast    estimate         SE    df t.ratio p.value\n",
       " BvG      -0.04464723 0.01565911 54.18  -2.851  0.0062\n",
       " BvLG     -0.06883667 0.01565911 54.18  -4.396  0.0001\n",
       " GvLG     -0.02418944 0.01565911 54.18  -1.545  0.1282\n",
       "\n",
       "Results are averaged over the levels of: rsi "
      ]
     },
     "metadata": {},
     "output_type": "display_data"
    },
    {
     "data": {
      "text/html": [
       "'Bonferroni correction, p threshold = 0.02'"
      ],
      "text/latex": [
       "'Bonferroni correction, p threshold = 0.02'"
      ],
      "text/markdown": [
       "'Bonferroni correction, p threshold = 0.02'"
      ],
      "text/plain": [
       "[1] \"Bonferroni correction, p threshold = 0.02\""
      ]
     },
     "metadata": {},
     "output_type": "display_data"
    }
   ],
   "source": [
    "contrast(means_int, list(BvG = c(1, -1, 0, 0, 0, 0),\n",
    "                     BvLG = c(1, 0, -1, 0, 0, 0),\n",
    "                     GvLG = c(0, 1, -1, 0, 0, 0)))\n",
    "paste0('Bonferroni correction, p threshold = ', round(0.05 / 3, 2))"
   ]
  },
  {
   "cell_type": "markdown",
   "metadata": {},
   "source": [
    "All levels are significantly different from one another except for green and light green."
   ]
  },
  {
   "cell_type": "markdown",
   "metadata": {},
   "source": [
    "**Plot:**"
   ]
  },
  {
   "cell_type": "code",
   "execution_count": 13,
   "metadata": {
    "scrolled": false
   },
   "outputs": [
    {
     "data": {},
     "metadata": {},
     "output_type": "display_data"
    },
    {
     "data": {
      "image/png": "[encoded data removed]",
      "text/plain": [
       "plot without title"
      ]
     },
     "metadata": {},
     "output_type": "display_data"
    }
   ],
   "source": [
    "options(repr.plot.width = 5, repr.plot.height = 4)\n",
    "current_data %>% \n",
    "group_by(subject, color, difference_d) %>% \n",
    "summarize(transcode = mean(transcode)) %>% \n",
    "group_by(color, difference_d) %>% \n",
    "summarize(switch = mean(transcode), se = sd(transcode) / sqrt(N)) %>% \n",
    "filter(difference_d != '') %>% \n",
    "mutate(difference_d = factor(difference_d, levels = c('low', 'high'))) %>% \n",
    "ggplot(aes(x = color, y = switch)) + geom_bar(stat = 'identity') + \n",
    "geom_errorbar(stat = 'identity', aes(ymin = switch - se, ymax = switch + se), width = .5) + \n",
    "ylim(0, 1) + xlab('Color Range') + ylab('Switching Proportion') + facet_wrap(~difference_d)"
   ]
  },
  {
   "cell_type": "markdown",
   "metadata": {},
   "source": [
    "### Following up on the Difference X CTI interaction that we did not predict\n",
    "\n",
    "Let's start by plotting the means"
   ]
  },
  {
   "cell_type": "code",
   "execution_count": 14,
   "metadata": {},
   "outputs": [
    {
     "data": {},
     "metadata": {},
     "output_type": "display_data"
    },
    {
     "data": {
      "image/png": "[encoded data removed]",
      "text/plain": [
       "plot without title"
      ]
     },
     "metadata": {},
     "output_type": "display_data"
    }
   ],
   "source": [
    "diff_rsi_means %>% \n",
    "ggplot(aes(x = difference_d, y = switch, group = rsi)) + \n",
    "geom_bar(stat = 'identity', aes(fill = rsi), position = 'dodge') + \n",
    "geom_errorbar(aes(ymin = switch - se, ymax = switch + se), position = position_dodge(width = .9), width = .5) + \n",
    "ylim(0,1) + xlab('Difference') + ylab('Proportion of Switching')"
   ]
  },
  {
   "cell_type": "markdown",
   "metadata": {},
   "source": [
    "Things just seem to be generally crused at low difference, where subjects pretty invariably repeated. Let's actually take a closer look at the numbers."
   ]
  },
  {
   "cell_type": "code",
   "execution_count": 15,
   "metadata": {},
   "outputs": [
    {
     "data": {
      "text/html": [
       "<table>\n",
       "<thead><tr><th scope=col>rsi</th><th scope=col>difference_d</th><th scope=col>switch</th><th scope=col>se</th></tr></thead>\n",
       "<tbody>\n",
       "\t<tr><td>200        </td><td>high       </td><td>0.631861971</td><td>0.067203331</td></tr>\n",
       "\t<tr><td>200        </td><td>low        </td><td>0.012328347</td><td>0.005396301</td></tr>\n",
       "\t<tr><td>1100       </td><td>high       </td><td>0.672317299</td><td>0.068380894</td></tr>\n",
       "\t<tr><td>1100       </td><td>low        </td><td>0.008716994</td><td>0.003505340</td></tr>\n",
       "</tbody>\n",
       "</table>\n"
      ],
      "text/latex": [
       "\\begin{tabular}{r|llll}\n",
       " rsi & difference\\_d & switch & se\\\\\n",
       "\\hline\n",
       "\t 200         & high        & 0.631861971 & 0.067203331\\\\\n",
       "\t 200         & low         & 0.012328347 & 0.005396301\\\\\n",
       "\t 1100        & high        & 0.672317299 & 0.068380894\\\\\n",
       "\t 1100        & low         & 0.008716994 & 0.003505340\\\\\n",
       "\\end{tabular}\n"
      ],
      "text/markdown": [
       "\n",
       "rsi | difference_d | switch | se | \n",
       "|---|---|---|---|\n",
       "| 200         | high        | 0.631861971 | 0.067203331 | \n",
       "| 200         | low         | 0.012328347 | 0.005396301 | \n",
       "| 1100        | high        | 0.672317299 | 0.068380894 | \n",
       "| 1100        | low         | 0.008716994 | 0.003505340 | \n",
       "\n",
       "\n"
      ],
      "text/plain": [
       "  rsi  difference_d switch      se         \n",
       "1 200  high         0.631861971 0.067203331\n",
       "2 200  low          0.012328347 0.005396301\n",
       "3 1100 high         0.672317299 0.068380894\n",
       "4 1100 low          0.008716994 0.003505340"
      ]
     },
     "metadata": {},
     "output_type": "display_data"
    }
   ],
   "source": [
    "diff_rsi_means"
   ]
  },
  {
   "cell_type": "markdown",
   "metadata": {},
   "source": [
    "It's interesting to note that--at low differences--subjects are actually switching *more* with less time to prepare, which is the opposite of what's typically found in the literature. We'll test the simple effects to see whether this is significant or not."
   ]
  },
  {
   "cell_type": "markdown",
   "metadata": {},
   "source": [
    "**Simple effects:**"
   ]
  },
  {
   "cell_type": "code",
   "execution_count": 16,
   "metadata": {},
   "outputs": [
    {
     "name": "stderr",
     "output_type": "stream",
     "text": [
      "Warning message:\n",
      "“Collapsing data to cell means. *IF* the requested effects are a subset of the full design, you must use the \"within_full\" argument, else results may be inaccurate.”"
     ]
    },
    {
     "data": {
      "text/html": [
       "'The simple effect of cti in the low difference range: F(1, 15) = 0.04, p = 0.85, n2p = 0'"
      ],
      "text/latex": [
       "'The simple effect of cti in the low difference range: F(1, 15) = 0.04, p = 0.85, n2p = 0'"
      ],
      "text/markdown": [
       "'The simple effect of cti in the low difference range: F(1, 15) = 0.04, p = 0.85, n2p = 0'"
      ],
      "text/plain": [
       "[1] \"The simple effect of cti in the low difference range: F(1, 15) = 0.04, p = 0.85, n2p = 0\""
      ]
     },
     "metadata": {},
     "output_type": "display_data"
    }
   ],
   "source": [
    "## save omnibus terms\n",
    "ssd <- m1$ANOVA$SSd[6]\n",
    "dfd <- m1$ANOVA$DFd[6]\n",
    "mse <- ssd / dfd\n",
    "\n",
    "diff_low <- ezANOVA(data = current_data[current_data$difference_d == 'low',], \n",
    "                    wid = subject, within = rsi, dv = transcode, detailed = TRUE)\n",
    "\n",
    "\n",
    "ssn_low <- diff_low$ANOVA$SSn[2]\n",
    "dfn_low <- diff_low$ANOVA$DFn[2]\n",
    "msn_low <- ssn_low / dfn_low\n",
    "F_low <- msn_low / mse\n",
    "p_low <- pf(F_low, dfn_low, dfd, lower.tail = FALSE)\n",
    "n2p_low <- ssn_low / (ssn_low + ssd)\n",
    "\n",
    "paste0('The simple effect of cti in the low difference range: F(', dfn_low, ', ', dfd, ') = ', round(F_low, 2), ', p = ',\n",
    "      round(p_low, 2), ', n2p = ', round(n2p_low, 2))"
   ]
  },
  {
   "cell_type": "code",
   "execution_count": 17,
   "metadata": {},
   "outputs": [
    {
     "name": "stderr",
     "output_type": "stream",
     "text": [
      "Warning message:\n",
      "“Collapsing data to cell means. *IF* the requested effects are a subset of the full design, you must use the \"within_full\" argument, else results may be inaccurate.”"
     ]
    },
    {
     "data": {
      "text/html": [
       "'The simple effect of cti in the high difference range: F(1, 15) = 4.28, p = 0.0562, n2p = 0.22'"
      ],
      "text/latex": [
       "'The simple effect of cti in the high difference range: F(1, 15) = 4.28, p = 0.0562, n2p = 0.22'"
      ],
      "text/markdown": [
       "'The simple effect of cti in the high difference range: F(1, 15) = 4.28, p = 0.0562, n2p = 0.22'"
      ],
      "text/plain": [
       "[1] \"The simple effect of cti in the high difference range: F(1, 15) = 4.28, p = 0.0562, n2p = 0.22\""
      ]
     },
     "metadata": {},
     "output_type": "display_data"
    }
   ],
   "source": [
    "diff_high <- ezANOVA(data = current_data[current_data$difference_d == 'high',], \n",
    "                    wid = subject, within = rsi, dv = transcode, detailed = TRUE)\n",
    "\n",
    "\n",
    "ssn_high <- diff_high$ANOVA$SSn[2]\n",
    "dfn_high <- diff_high$ANOVA$DFn[2]\n",
    "msn_high <- ssn_high / dfn_high\n",
    "F_high <- msn_high / mse\n",
    "p_high <- pf(F_high, dfn_high, dfd, lower.tail = FALSE)\n",
    "n2p_high <- ssn_high / (ssn_high + ssd)\n",
    "\n",
    "paste0('The simple effect of cti in the high difference range: F(', dfn_high, ', ', dfd, ') = ', round(F_high, 2), ', p = ',\n",
    "      round(p_high, 4), ', n2p = ', round(n2p_high, 2))"
   ]
  },
  {
   "cell_type": "markdown",
   "metadata": {},
   "source": [
    "The simple effect of cti is marginally significant in the high difference range but not significant in the low difference range."
   ]
  },
  {
   "cell_type": "markdown",
   "metadata": {},
   "source": [
    "## Analysis 2 -- The increasing cost of effort"
   ]
  },
  {
   "cell_type": "code",
   "execution_count": 18,
   "metadata": {},
   "outputs": [
    {
     "name": "stdout",
     "output_type": "stream",
     "text": [
      "'data.frame':\t12548 obs. of  15 variables:\n",
      " $ subject     : Factor w/ 16 levels \"3\",\"4\",\"5\",\"6\",..: 1 1 1 1 1 1 1 1 1 1 ...\n",
      " $ block       : int  1 1 1 1 1 1 1 1 1 1 ...\n",
      " $ rsi         : Factor w/ 2 levels \"200\",\"1100\": 2 1 1 1 1 2 2 2 2 2 ...\n",
      " $ rt          : int  1082 847 1167 633 1185 971 525 578 1317 513 ...\n",
      " $ blocktime   : num  124 124 124 124 124 ...\n",
      " $ transcode   : int  0 1 0 0 1 0 0 1 1 0 ...\n",
      " $ stimrep     : int  0 1 1 1 0 1 1 0 1 0 ...\n",
      " $ current_pv  : int  7 4 3 8 3 2 10 4 1 8 ...\n",
      " $ other_pv    : int  4 7 2 6 7 1 2 9 7 5 ...\n",
      " $ color       : Factor w/ 3 levels \"black\",\"green\",..: 1 1 1 1 2 1 3 2 2 1 ...\n",
      " $ difference  : int  -3 3 -1 -2 4 -1 -8 5 6 -3 ...\n",
      " $ rt_mean     : num  666 666 666 666 666 ...\n",
      " $ rt_sd       : num  457 457 457 457 457 ...\n",
      " $ block_f     : Factor w/ 3 levels \"high\",\"low\",\"medium\": 2 2 2 2 2 2 2 2 2 2 ...\n",
      " $ difference_d: Factor w/ 3 levels \"\",\"high\",\"low\": 3 2 3 3 2 3 3 2 2 3 ...\n"
     ]
    }
   ],
   "source": [
    "str(current_data)"
   ]
  },
  {
   "cell_type": "markdown",
   "metadata": {},
   "source": [
    "**The omnibus analysis:**"
   ]
  },
  {
   "cell_type": "code",
   "execution_count": 19,
   "metadata": {},
   "outputs": [
    {
     "name": "stderr",
     "output_type": "stream",
     "text": [
      "Warning message:\n",
      "“You have removed one or more levels from variable \"difference_d\". Refactoring for ANOVA.”Warning message:\n",
      "“Collapsing data to cell means. *IF* the requested effects are a subset of the full design, you must use the \"within_full\" argument, else results may be inaccurate.”"
     ]
    },
    {
     "data": {
      "text/html": [
       "<table>\n",
       "<thead><tr><th scope=col>Effect</th><th scope=col>DFn</th><th scope=col>DFd</th><th scope=col>SSn</th><th scope=col>SSd</th><th scope=col>F</th><th scope=col>p</th><th scope=col>p&lt;.05</th><th scope=col>ges</th><th scope=col>n2p</th></tr></thead>\n",
       "<tbody>\n",
       "\t<tr><td>(Intercept)         </td><td>1                   </td><td>15                  </td><td>10.2351839          </td><td>1.3625080           </td><td>112.680262          </td><td>2.265747e-08        </td><td>*                   </td><td>0.6804204           </td><td>0.8825190           </td></tr>\n",
       "\t<tr><td>block_f             </td><td>2                   </td><td>30                  </td><td> 0.2985248          </td><td>1.0558680           </td><td>  4.240939          </td><td>2.387673e-02        </td><td>*                   </td><td>0.0584680           </td><td>0.2204123           </td></tr>\n",
       "\t<tr><td>difference_d        </td><td>1                   </td><td>15                  </td><td> 9.4001568          </td><td>1.4108449           </td><td> 99.941780          </td><td>5.016078e-08        </td><td>*                   </td><td>0.6616374           </td><td>0.8694992           </td></tr>\n",
       "\t<tr><td>block_f:difference_d</td><td>2                   </td><td>30                  </td><td> 0.2675762          </td><td>0.9780359           </td><td>  4.103778          </td><td>2.658152e-02        </td><td>*                   </td><td>0.0527261           </td><td>0.2148150           </td></tr>\n",
       "</tbody>\n",
       "</table>\n"
      ],
      "text/latex": [
       "\\begin{tabular}{r|llllllllll}\n",
       " Effect & DFn & DFd & SSn & SSd & F & p & p<.05 & ges & n2p\\\\\n",
       "\\hline\n",
       "\t (Intercept)          & 1                    & 15                   & 10.2351839           & 1.3625080            & 112.680262           & 2.265747e-08         & *                    & 0.6804204            & 0.8825190           \\\\\n",
       "\t block\\_f              & 2                      & 30                     &  0.2985248             & 1.0558680              &   4.240939             & 2.387673e-02           & *                      & 0.0584680              & 0.2204123             \\\\\n",
       "\t difference\\_d         & 1                      & 15                     &  9.4001568             & 1.4108449              &  99.941780             & 5.016078e-08           & *                      & 0.6616374              & 0.8694992             \\\\\n",
       "\t block\\_f:difference\\_d & 2                        & 30                       &  0.2675762               & 0.9780359                &   4.103778               & 2.658152e-02             & *                        & 0.0527261                & 0.2148150               \\\\\n",
       "\\end{tabular}\n"
      ],
      "text/markdown": [
       "\n",
       "Effect | DFn | DFd | SSn | SSd | F | p | p<.05 | ges | n2p | \n",
       "|---|---|---|---|\n",
       "| (Intercept)          | 1                    | 15                   | 10.2351839           | 1.3625080            | 112.680262           | 2.265747e-08         | *                    | 0.6804204            | 0.8825190            | \n",
       "| block_f              | 2                    | 30                   |  0.2985248           | 1.0558680            |   4.240939           | 2.387673e-02         | *                    | 0.0584680            | 0.2204123            | \n",
       "| difference_d         | 1                    | 15                   |  9.4001568           | 1.4108449            |  99.941780           | 5.016078e-08         | *                    | 0.6616374            | 0.8694992            | \n",
       "| block_f:difference_d | 2                    | 30                   |  0.2675762           | 0.9780359            |   4.103778           | 2.658152e-02         | *                    | 0.0527261            | 0.2148150            | \n",
       "\n",
       "\n"
      ],
      "text/plain": [
       "  Effect               DFn DFd SSn        SSd       F          p           \n",
       "1 (Intercept)          1   15  10.2351839 1.3625080 112.680262 2.265747e-08\n",
       "2 block_f              2   30   0.2985248 1.0558680   4.240939 2.387673e-02\n",
       "3 difference_d         1   15   9.4001568 1.4108449  99.941780 5.016078e-08\n",
       "4 block_f:difference_d 2   30   0.2675762 0.9780359   4.103778 2.658152e-02\n",
       "  p<.05 ges       n2p      \n",
       "1 *     0.6804204 0.8825190\n",
       "2 *     0.0584680 0.2204123\n",
       "3 *     0.6616374 0.8694992\n",
       "4 *     0.0527261 0.2148150"
      ]
     },
     "metadata": {},
     "output_type": "display_data"
    },
    {
     "data": {
      "text/html": [
       "<table>\n",
       "<thead><tr><th></th><th scope=col>Effect</th><th scope=col>W</th><th scope=col>p</th><th scope=col>p&lt;.05</th></tr></thead>\n",
       "<tbody>\n",
       "\t<tr><th scope=row>2</th><td>block_f             </td><td>0.9590298           </td><td>0.7461476           </td><td>                    </td></tr>\n",
       "\t<tr><th scope=row>4</th><td>block_f:difference_d</td><td>0.9679415           </td><td>0.7960561           </td><td>                    </td></tr>\n",
       "</tbody>\n",
       "</table>\n"
      ],
      "text/latex": [
       "\\begin{tabular}{r|llll}\n",
       "  & Effect & W & p & p<.05\\\\\n",
       "\\hline\n",
       "\t2 & block\\_f              & 0.9590298              & 0.7461476              &                       \\\\\n",
       "\t4 & block\\_f:difference\\_d & 0.9679415                & 0.7960561                &                         \\\\\n",
       "\\end{tabular}\n"
      ],
      "text/markdown": [
       "\n",
       "| <!--/--> | Effect | W | p | p<.05 | \n",
       "|---|---|\n",
       "| 2 | block_f              | 0.9590298            | 0.7461476            |                      | \n",
       "| 4 | block_f:difference_d | 0.9679415            | 0.7960561            |                      | \n",
       "\n",
       "\n"
      ],
      "text/plain": [
       "  Effect               W         p         p<.05\n",
       "2 block_f              0.9590298 0.7461476      \n",
       "4 block_f:difference_d 0.9679415 0.7960561      "
      ]
     },
     "metadata": {},
     "output_type": "display_data"
    },
    {
     "data": {
      "text/html": [
       "<table>\n",
       "<thead><tr><th></th><th scope=col>Effect</th><th scope=col>GGe</th><th scope=col>p[GG]</th><th scope=col>p[GG]&lt;.05</th><th scope=col>HFe</th><th scope=col>p[HF]</th><th scope=col>p[HF]&lt;.05</th></tr></thead>\n",
       "<tbody>\n",
       "\t<tr><th scope=row>2</th><td>block_f             </td><td>0.9606423           </td><td>0.02557244          </td><td>*                   </td><td>1.098753            </td><td>0.02387673          </td><td>*                   </td></tr>\n",
       "\t<tr><th scope=row>4</th><td>block_f:difference_d</td><td>0.9689373           </td><td>0.02798457          </td><td>*                   </td><td>1.110309            </td><td>0.02658152          </td><td>*                   </td></tr>\n",
       "</tbody>\n",
       "</table>\n"
      ],
      "text/latex": [
       "\\begin{tabular}{r|lllllll}\n",
       "  & Effect & GGe & p{[}GG{]} & p{[}GG{]}<.05 & HFe & p{[}HF{]} & p{[}HF{]}<.05\\\\\n",
       "\\hline\n",
       "\t2 & block\\_f              & 0.9606423              & 0.02557244             & *                      & 1.098753               & 0.02387673             & *                     \\\\\n",
       "\t4 & block\\_f:difference\\_d & 0.9689373                & 0.02798457               & *                        & 1.110309                 & 0.02658152               & *                       \\\\\n",
       "\\end{tabular}\n"
      ],
      "text/markdown": [
       "\n",
       "| <!--/--> | Effect | GGe | p[GG] | p[GG]<.05 | HFe | p[HF] | p[HF]<.05 | \n",
       "|---|---|\n",
       "| 2 | block_f              | 0.9606423            | 0.02557244           | *                    | 1.098753             | 0.02387673           | *                    | \n",
       "| 4 | block_f:difference_d | 0.9689373            | 0.02798457           | *                    | 1.110309             | 0.02658152           | *                    | \n",
       "\n",
       "\n"
      ],
      "text/plain": [
       "  Effect               GGe       p[GG]      p[GG]<.05 HFe      p[HF]     \n",
       "2 block_f              0.9606423 0.02557244 *         1.098753 0.02387673\n",
       "4 block_f:difference_d 0.9689373 0.02798457 *         1.110309 0.02658152\n",
       "  p[HF]<.05\n",
       "2 *        \n",
       "4 *        "
      ]
     },
     "metadata": {},
     "output_type": "display_data"
    }
   ],
   "source": [
    "m2 <- ezANOVA(data = current_data, wid = subject, within = .(block_f, difference_d), dv = transcode, \n",
    "              detailed = T, return_aov = TRUE, type = 2)\n",
    "cbind(m2$ANOVA, n2p = m2$ANOVA$SSn / (m2$ANOVA$SSn + m2$ANOVA$SSd))\n",
    "m2$\"Mauchly's Test for Sphericity\"\n",
    "m2$\"Sphericity Corrections\""
   ]
  },
  {
   "cell_type": "markdown",
   "metadata": {},
   "source": [
    "**Means and SEs**"
   ]
  },
  {
   "cell_type": "code",
   "execution_count": 20,
   "metadata": {},
   "outputs": [
    {
     "data": {
      "text/html": [
       "16"
      ],
      "text/latex": [
       "16"
      ],
      "text/markdown": [
       "16"
      ],
      "text/plain": [
       "[1] 16"
      ]
     },
     "metadata": {},
     "output_type": "display_data"
    },
    {
     "data": {
      "text/html": [
       "<table>\n",
       "<thead><tr><th scope=col>block_f</th><th scope=col>switch</th><th scope=col>se</th></tr></thead>\n",
       "<tbody>\n",
       "\t<tr><td>high      </td><td>0.2660088 </td><td>0.09636329</td></tr>\n",
       "\t<tr><td>low       </td><td>0.4005742 </td><td>0.10652640</td></tr>\n",
       "\t<tr><td>medium    </td><td>0.3129824 </td><td>0.09246454</td></tr>\n",
       "</tbody>\n",
       "</table>\n"
      ],
      "text/latex": [
       "\\begin{tabular}{r|lll}\n",
       " block\\_f & switch & se\\\\\n",
       "\\hline\n",
       "\t high       & 0.2660088  & 0.09636329\\\\\n",
       "\t low        & 0.4005742  & 0.10652640\\\\\n",
       "\t medium     & 0.3129824  & 0.09246454\\\\\n",
       "\\end{tabular}\n"
      ],
      "text/markdown": [
       "\n",
       "block_f | switch | se | \n",
       "|---|---|---|\n",
       "| high       | 0.2660088  | 0.09636329 | \n",
       "| low        | 0.4005742  | 0.10652640 | \n",
       "| medium     | 0.3129824  | 0.09246454 | \n",
       "\n",
       "\n"
      ],
      "text/plain": [
       "  block_f switch    se        \n",
       "1 high    0.2660088 0.09636329\n",
       "2 low     0.4005742 0.10652640\n",
       "3 medium  0.3129824 0.09246454"
      ]
     },
     "metadata": {},
     "output_type": "display_data"
    },
    {
     "data": {
      "text/html": [
       "<table>\n",
       "<thead><tr><th scope=col>difference_d</th><th scope=col>switch</th><th scope=col>se</th></tr></thead>\n",
       "<tbody>\n",
       "\t<tr><td>high       </td><td>0.63944082 </td><td>0.084433195</td></tr>\n",
       "\t<tr><td>low        </td><td>0.01360282 </td><td>0.004056865</td></tr>\n",
       "</tbody>\n",
       "</table>\n"
      ],
      "text/latex": [
       "\\begin{tabular}{r|lll}\n",
       " difference\\_d & switch & se\\\\\n",
       "\\hline\n",
       "\t high        & 0.63944082  & 0.084433195\\\\\n",
       "\t low         & 0.01360282  & 0.004056865\\\\\n",
       "\\end{tabular}\n"
      ],
      "text/markdown": [
       "\n",
       "difference_d | switch | se | \n",
       "|---|---|\n",
       "| high        | 0.63944082  | 0.084433195 | \n",
       "| low         | 0.01360282  | 0.004056865 | \n",
       "\n",
       "\n"
      ],
      "text/plain": [
       "  difference_d switch     se         \n",
       "1 high         0.63944082 0.084433195\n",
       "2 low          0.01360282 0.004056865"
      ]
     },
     "metadata": {},
     "output_type": "display_data"
    },
    {
     "data": {
      "text/html": [
       "<table>\n",
       "<thead><tr><th scope=col>block_f</th><th scope=col>difference_d</th><th scope=col>switch</th><th scope=col>se</th></tr></thead>\n",
       "<tbody>\n",
       "\t<tr><td>high       </td><td>high       </td><td>0.522280317</td><td>0.102097084</td></tr>\n",
       "\t<tr><td>high       </td><td>low        </td><td>0.009737341</td><td>0.003214540</td></tr>\n",
       "\t<tr><td>low        </td><td>high       </td><td>0.783937927</td><td>0.061951877</td></tr>\n",
       "\t<tr><td>low        </td><td>low        </td><td>0.017210569</td><td>0.004306022</td></tr>\n",
       "\t<tr><td>medium     </td><td>high       </td><td>0.612104214</td><td>0.075621996</td></tr>\n",
       "\t<tr><td>medium     </td><td>low        </td><td>0.013860555</td><td>0.004563497</td></tr>\n",
       "</tbody>\n",
       "</table>\n"
      ],
      "text/latex": [
       "\\begin{tabular}{r|llll}\n",
       " block\\_f & difference\\_d & switch & se\\\\\n",
       "\\hline\n",
       "\t high        & high        & 0.522280317 & 0.102097084\\\\\n",
       "\t high        & low         & 0.009737341 & 0.003214540\\\\\n",
       "\t low         & high        & 0.783937927 & 0.061951877\\\\\n",
       "\t low         & low         & 0.017210569 & 0.004306022\\\\\n",
       "\t medium      & high        & 0.612104214 & 0.075621996\\\\\n",
       "\t medium      & low         & 0.013860555 & 0.004563497\\\\\n",
       "\\end{tabular}\n"
      ],
      "text/markdown": [
       "\n",
       "block_f | difference_d | switch | se | \n",
       "|---|---|---|---|---|---|\n",
       "| high        | high        | 0.522280317 | 0.102097084 | \n",
       "| high        | low         | 0.009737341 | 0.003214540 | \n",
       "| low         | high        | 0.783937927 | 0.061951877 | \n",
       "| low         | low         | 0.017210569 | 0.004306022 | \n",
       "| medium      | high        | 0.612104214 | 0.075621996 | \n",
       "| medium      | low         | 0.013860555 | 0.004563497 | \n",
       "\n",
       "\n"
      ],
      "text/plain": [
       "  block_f difference_d switch      se         \n",
       "1 high    high         0.522280317 0.102097084\n",
       "2 high    low          0.009737341 0.003214540\n",
       "3 low     high         0.783937927 0.061951877\n",
       "4 low     low          0.017210569 0.004306022\n",
       "5 medium  high         0.612104214 0.075621996\n",
       "6 medium  low          0.013860555 0.004563497"
      ]
     },
     "metadata": {},
     "output_type": "display_data"
    }
   ],
   "source": [
    "subject_means <- current_data %>% \n",
    "group_by(subject, block_f, difference_d) %>% \n",
    "summarize(transcode = mean(transcode))\n",
    "\n",
    "N\n",
    "\n",
    "subject_means %>% \n",
    "group_by(block_f) %>% \n",
    "summarize(switch = mean(transcode), se = sd(transcode) / sqrt(N))\n",
    "\n",
    "subject_means %>% \n",
    "group_by(difference_d) %>% \n",
    "summarize(switch = mean(transcode), se = sd(transcode) / sqrt(N))\n",
    "\n",
    "subject_means %>% \n",
    "group_by(block_f, difference_d) %>% \n",
    "summarize(switch = mean(transcode), se = sd(transcode) / sqrt(N))"
   ]
  },
  {
   "cell_type": "markdown",
   "metadata": {},
   "source": [
    "**Simple effects:**"
   ]
  },
  {
   "cell_type": "code",
   "execution_count": 21,
   "metadata": {},
   "outputs": [
    {
     "name": "stderr",
     "output_type": "stream",
     "text": [
      "Warning message:\n",
      "“Collapsing data to cell means. *IF* the requested effects are a subset of the full design, you must use the \"within_full\" argument, else results may be inaccurate.”"
     ]
    },
    {
     "data": {
      "text/html": [
       "'The simple effect of block_f in the low difference range: F(2, 30) = 0.01, p = 0.99, n2p = 0'"
      ],
      "text/latex": [
       "'The simple effect of block\\_f in the low difference range: F(2, 30) = 0.01, p = 0.99, n2p = 0'"
      ],
      "text/markdown": [
       "'The simple effect of block_f in the low difference range: F(2, 30) = 0.01, p = 0.99, n2p = 0'"
      ],
      "text/plain": [
       "[1] \"The simple effect of block_f in the low difference range: F(2, 30) = 0.01, p = 0.99, n2p = 0\""
      ]
     },
     "metadata": {},
     "output_type": "display_data"
    }
   ],
   "source": [
    "## save omnibus terms\n",
    "ssd <- m2$ANOVA$SSd[4]\n",
    "dfd <- m2$ANOVA$DFd[4]\n",
    "mse <- ssd / dfd\n",
    "\n",
    "diff_low <- ezANOVA(data = current_data[current_data$difference_d == 'low',], \n",
    "                    wid = subject, within = block_f, dv = transcode, detailed = TRUE)\n",
    "\n",
    "\n",
    "ssn_low <- diff_low$ANOVA$SSn[2]\n",
    "dfn_low <- diff_low$ANOVA$DFn[2]\n",
    "msn_low <- ssn_low / dfn_low\n",
    "F_low <- msn_low / mse\n",
    "p_low <- pf(F_low, dfn_low, dfd, lower.tail = FALSE)\n",
    "n2p_low <- ssn_low / (ssn_low + ssd)\n",
    "\n",
    "paste0('The simple effect of block_f in the low difference range: F(', dfn_low, ', ', dfd, ') = ', round(F_low, 2), ', p = ',\n",
    "      round(p_low, 2), ', n2p = ', round(n2p_low, 2))"
   ]
  },
  {
   "cell_type": "code",
   "execution_count": 22,
   "metadata": {},
   "outputs": [
    {
     "name": "stderr",
     "output_type": "stream",
     "text": [
      "Warning message:\n",
      "“Collapsing data to cell means. *IF* the requested effects are a subset of the full design, you must use the \"within_full\" argument, else results may be inaccurate.”"
     ]
    },
    {
     "data": {
      "text/html": [
       "'The simple effect of block_f in the high difference range: F(2, 30) = 8.68, p = 0, n2p = 0.37'"
      ],
      "text/latex": [
       "'The simple effect of block\\_f in the high difference range: F(2, 30) = 8.68, p = 0, n2p = 0.37'"
      ],
      "text/markdown": [
       "'The simple effect of block_f in the high difference range: F(2, 30) = 8.68, p = 0, n2p = 0.37'"
      ],
      "text/plain": [
       "[1] \"The simple effect of block_f in the high difference range: F(2, 30) = 8.68, p = 0, n2p = 0.37\""
      ]
     },
     "metadata": {},
     "output_type": "display_data"
    }
   ],
   "source": [
    "diff_high <- ezANOVA(data = current_data[current_data$difference_d == 'high',], \n",
    "                    wid = subject, within = block_f, dv = transcode, detailed = TRUE)\n",
    "\n",
    "\n",
    "ssn_high <- diff_high$ANOVA$SSn[2]\n",
    "dfn_high <- diff_high$ANOVA$DFn[2]\n",
    "msn_high <- ssn_high / dfn_high\n",
    "F_high <- msn_high / mse\n",
    "p_high <- pf(F_high, dfn_high, dfd, lower.tail = FALSE)\n",
    "n2p_high <- ssn_high / (ssn_high + ssd)\n",
    "\n",
    "paste0('The simple effect of block_f in the high difference range: F(', dfn_high, ', ', dfd, ') = ', round(F_high, 2), ', p = ',\n",
    "      round(p_high, 2), ', n2p = ', round(n2p_high, 2))"
   ]
  },
  {
   "cell_type": "markdown",
   "metadata": {},
   "source": [
    "**Pairwise compairsons of simple effect of color at high level of difference:**"
   ]
  },
  {
   "cell_type": "code",
   "execution_count": 23,
   "metadata": {},
   "outputs": [
    {
     "name": "stderr",
     "output_type": "stream",
     "text": [
      "Warning message in lsm.basis.aovlist(object, trms, xlev, grid, ...):\n",
      "“Some predictors are correlated with the intercept - results are biased.\n",
      "May help to re-fit with different contrasts, e.g. 'contr.sum'”"
     ]
    }
   ],
   "source": [
    "means_int <- lsmeans(m2$aov, specs = c('block_f', 'difference_d'))"
   ]
  },
  {
   "cell_type": "code",
   "execution_count": 24,
   "metadata": {},
   "outputs": [
    {
     "data": {
      "text/plain": [
       " block_f difference_d     lsmean         SE    df   lower.CL    upper.CL\n",
       " high    high          0.3265218 0.03076014 15.00  0.2609581  0.39208550\n",
       " low     high          0.4610872 0.05608842 44.79  0.3415376  0.58063688\n",
       " medium  high          0.3734954 0.05608842 44.79  0.2539457  0.49304502\n",
       " high    low          -0.2993162 0.06975098 21.84 -0.4479869 -0.15064547\n",
       " low     low          -0.4189351 0.12335000 66.93 -0.6818495 -0.15602083\n",
       " medium  low          -0.3380433 0.12335000 66.93 -0.6009576 -0.07512899\n",
       "\n",
       "Confidence level used: 0.95 "
      ]
     },
     "metadata": {},
     "output_type": "display_data"
    }
   ],
   "source": [
    "means_int"
   ]
  },
  {
   "cell_type": "code",
   "execution_count": 25,
   "metadata": {},
   "outputs": [
    {
     "data": {
      "text/plain": [
       " contrast   estimate         SE df t.ratio p.value\n",
       " LvM      0.08759186 0.04690123 30   1.868  0.0716\n",
       " LvH      0.13456542 0.04690123 30   2.869  0.0075\n",
       " MvH      0.04697356 0.04690123 30   1.002  0.3246\n"
      ]
     },
     "metadata": {},
     "output_type": "display_data"
    },
    {
     "data": {
      "text/html": [
       "'Bonferroni threshold = 0.0167'"
      ],
      "text/latex": [
       "'Bonferroni threshold = 0.0167'"
      ],
      "text/markdown": [
       "'Bonferroni threshold = 0.0167'"
      ],
      "text/plain": [
       "[1] \"Bonferroni threshold = 0.0167\""
      ]
     },
     "metadata": {},
     "output_type": "display_data"
    }
   ],
   "source": [
    "contrast(means_int, list(LvM = c(0, 1, -1, 0, 0, 0),\n",
    "                                LvH = c(-1, 1, 0, 0, 0, 0),\n",
    "                                MvH = c(-1, 0, 1, 0, 0, 0)))\n",
    "paste0('Bonferroni threshold = ', round(.05/3, 4))"
   ]
  },
  {
   "cell_type": "markdown",
   "metadata": {},
   "source": [
    "**Plot:**"
   ]
  },
  {
   "cell_type": "code",
   "execution_count": 26,
   "metadata": {},
   "outputs": [
    {
     "data": {},
     "metadata": {},
     "output_type": "display_data"
    },
    {
     "data": {
      "image/png": "[encoded data removed]",
      "text/plain": [
       "plot without title"
      ]
     },
     "metadata": {},
     "output_type": "display_data"
    }
   ],
   "source": [
    "options(repr.plot.width = 5, repr.plot.height = 4)\n",
    "current_data %>% \n",
    "mutate(block_f = factor(block_f, levels(block_f)[c(2, 3, 1)])) %>% \n",
    "group_by(subject, difference_d, block_f) %>% \n",
    "summarize(transcode = mean(transcode)) %>% \n",
    "group_by(block_f, difference_d) %>% \n",
    "summarize(switch = mean(transcode), se = sd(transcode) / sqrt(n())) %>% \n",
    "filter(difference_d == 'high') %>% \n",
    "ggplot(aes(x = block_f, y = switch, group = 1)) + geom_line() + geom_point(size = 2) +\n",
    "geom_errorbar(stat = 'identity', aes(ymin = switch - se, ymax = switch + se), width = .5) + ylim(0, 1) + \n",
    "ggtitle('Simple effect of block at high levels of difference') + xlab('Block Range') + ylab('Switching Proportion')\n"
   ]
  }
 ],
 "metadata": {
  "kernelspec": {
   "display_name": "R",
   "language": "R",
   "name": "ir"
  },
  "language_info": {
   "codemirror_mode": "r",
   "file_extension": ".r",
   "mimetype": "text/x-r-source",
   "name": "R",
   "pygments_lexer": "r",
   "version": "3.4.4"
  }
 },
 "nbformat": 4,
 "nbformat_minor": 2
}
